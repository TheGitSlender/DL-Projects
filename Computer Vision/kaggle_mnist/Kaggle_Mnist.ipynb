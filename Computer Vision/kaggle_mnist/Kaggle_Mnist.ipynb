{
 "cells": [
  {
   "cell_type": "code",
   "execution_count": 1,
   "metadata": {},
   "outputs": [],
   "source": [
    "from tensorflow import keras\n",
    "from keras import Sequential\n",
    "from keras.layers import Conv2D,Dense, MaxPool2D, Flatten"
   ]
  },
  {
   "cell_type": "code",
   "execution_count": 2,
   "metadata": {},
   "outputs": [],
   "source": [
    "import pandas as pd\n",
    "from sklearn.model_selection import train_test_split"
   ]
  },
  {
   "cell_type": "code",
   "execution_count": 7,
   "metadata": {},
   "outputs": [],
   "source": [
    "df = pd.read_csv('data/train.csv')\n",
    "test = pd.read_csv('data/test.csv')"
   ]
  },
  {
   "cell_type": "code",
   "execution_count": null,
   "metadata": {},
   "outputs": [],
   "source": [
    "Y = df['label']\n",
    "features = df[df.columns.drop('label')]"
   ]
  },
  {
   "cell_type": "code",
   "execution_count": 5,
   "metadata": {},
   "outputs": [],
   "source": [
    "Y = Y.to_numpy()\n",
    "features = features.to_numpy()\n",
    "test = test.to_numpy()"
   ]
  },
  {
   "cell_type": "code",
   "execution_count": 6,
   "metadata": {},
   "outputs": [],
   "source": [
    "features = features.reshape(42000,28,28,1).astype('float32')\n",
    "test = test.reshape(test.shape[0],28,28,1).astype('float32')"
   ]
  },
  {
   "cell_type": "code",
   "execution_count": 7,
   "metadata": {},
   "outputs": [],
   "source": [
    "features = features/255\n",
    "test = test/255"
   ]
  },
  {
   "cell_type": "code",
   "execution_count": 8,
   "metadata": {},
   "outputs": [],
   "source": [
    "from keras.utils import to_categorical\n",
    "Y = to_categorical(Y)"
   ]
  },
  {
   "cell_type": "code",
   "execution_count": 9,
   "metadata": {},
   "outputs": [
    {
     "data": {
      "text/plain": [
       "10"
      ]
     },
     "execution_count": 9,
     "metadata": {},
     "output_type": "execute_result"
    }
   ],
   "source": [
    "num_classes = Y.shape[1]\n",
    "num_classes\n",
    "\n"
   ]
  },
  {
   "cell_type": "code",
   "execution_count": 10,
   "metadata": {},
   "outputs": [],
   "source": [
    "def convolutional_model():\n",
    "    #creating model\n",
    "    model = Sequential()\n",
    "    model.add(Conv2D(16,(5,5),activation='relu',input_shape = (28,28,1)))\n",
    "    model.add(MaxPool2D(pool_size=(2,2),strides=(2,2)))\n",
    "\n",
    "    model.add(Flatten())\n",
    "    model.add(Dense(100,activation='relu'))\n",
    "    model.add(Dense(num_classes,activation='softmax'))\n",
    "    \n",
    "    #compiling the model\n",
    "    model.compile(optimizer='adam',loss='categorical_crossentropy',metrics=['accuracy'])\n",
    "    return model"
   ]
  },
  {
   "cell_type": "code",
   "execution_count": 11,
   "metadata": {},
   "outputs": [],
   "source": [
    "from sklearn.model_selection import train_test_split\n",
    "\n",
    "x_train, x_test, y_train, y_test = train_test_split(features,Y,test_size=0.2)"
   ]
  },
  {
   "cell_type": "code",
   "execution_count": 12,
   "metadata": {},
   "outputs": [
    {
     "name": "stdout",
     "output_type": "stream",
     "text": [
      "Epoch 1/20\n",
      "168/168 - 4s - loss: 0.4237 - accuracy: 0.8843 - val_loss: 0.1737 - val_accuracy: 0.9488 - 4s/epoch - 24ms/step\n",
      "Epoch 2/20\n",
      "168/168 - 3s - loss: 0.1345 - accuracy: 0.9613 - val_loss: 0.1064 - val_accuracy: 0.9707 - 3s/epoch - 19ms/step\n",
      "Epoch 3/20\n",
      "168/168 - 3s - loss: 0.0875 - accuracy: 0.9737 - val_loss: 0.0826 - val_accuracy: 0.9767 - 3s/epoch - 19ms/step\n",
      "Epoch 4/20\n",
      "168/168 - 3s - loss: 0.0667 - accuracy: 0.9801 - val_loss: 0.0701 - val_accuracy: 0.9789 - 3s/epoch - 19ms/step\n",
      "Epoch 5/20\n",
      "168/168 - 3s - loss: 0.0533 - accuracy: 0.9839 - val_loss: 0.0646 - val_accuracy: 0.9821 - 3s/epoch - 20ms/step\n",
      "Epoch 6/20\n",
      "168/168 - 3s - loss: 0.0437 - accuracy: 0.9869 - val_loss: 0.0609 - val_accuracy: 0.9827 - 3s/epoch - 20ms/step\n",
      "Epoch 7/20\n",
      "168/168 - 3s - loss: 0.0367 - accuracy: 0.9899 - val_loss: 0.0613 - val_accuracy: 0.9830 - 3s/epoch - 19ms/step\n",
      "Epoch 8/20\n",
      "168/168 - 3s - loss: 0.0327 - accuracy: 0.9902 - val_loss: 0.0554 - val_accuracy: 0.9831 - 3s/epoch - 19ms/step\n",
      "Epoch 9/20\n",
      "168/168 - 3s - loss: 0.0258 - accuracy: 0.9927 - val_loss: 0.0509 - val_accuracy: 0.9854 - 3s/epoch - 19ms/step\n",
      "Epoch 10/20\n",
      "168/168 - 3s - loss: 0.0238 - accuracy: 0.9928 - val_loss: 0.0536 - val_accuracy: 0.9837 - 3s/epoch - 19ms/step\n",
      "Epoch 11/20\n",
      "168/168 - 3s - loss: 0.0210 - accuracy: 0.9937 - val_loss: 0.0530 - val_accuracy: 0.9856 - 3s/epoch - 20ms/step\n",
      "Epoch 12/20\n",
      "168/168 - 3s - loss: 0.0187 - accuracy: 0.9944 - val_loss: 0.0517 - val_accuracy: 0.9854 - 3s/epoch - 19ms/step\n",
      "Epoch 13/20\n",
      "168/168 - 3s - loss: 0.0152 - accuracy: 0.9956 - val_loss: 0.0507 - val_accuracy: 0.9846 - 3s/epoch - 19ms/step\n",
      "Epoch 14/20\n",
      "168/168 - 3s - loss: 0.0146 - accuracy: 0.9959 - val_loss: 0.0734 - val_accuracy: 0.9812 - 3s/epoch - 19ms/step\n",
      "Epoch 15/20\n",
      "168/168 - 3s - loss: 0.0123 - accuracy: 0.9965 - val_loss: 0.0489 - val_accuracy: 0.9879 - 3s/epoch - 19ms/step\n",
      "Epoch 16/20\n",
      "168/168 - 3s - loss: 0.0110 - accuracy: 0.9968 - val_loss: 0.0561 - val_accuracy: 0.9852 - 3s/epoch - 20ms/step\n",
      "Epoch 17/20\n",
      "168/168 - 3s - loss: 0.0086 - accuracy: 0.9978 - val_loss: 0.0545 - val_accuracy: 0.9852 - 3s/epoch - 19ms/step\n",
      "Epoch 18/20\n",
      "168/168 - 3s - loss: 0.0077 - accuracy: 0.9979 - val_loss: 0.0563 - val_accuracy: 0.9850 - 3s/epoch - 19ms/step\n",
      "Epoch 19/20\n",
      "168/168 - 3s - loss: 0.0057 - accuracy: 0.9987 - val_loss: 0.0547 - val_accuracy: 0.9863 - 3s/epoch - 19ms/step\n",
      "Epoch 20/20\n",
      "168/168 - 3s - loss: 0.0040 - accuracy: 0.9993 - val_loss: 0.0547 - val_accuracy: 0.9870 - 3s/epoch - 20ms/step\n"
     ]
    },
    {
     "data": {
      "text/plain": [
       "<keras.src.callbacks.History at 0x1f54104a510>"
      ]
     },
     "execution_count": 12,
     "metadata": {},
     "output_type": "execute_result"
    }
   ],
   "source": [
    "model = convolutional_model()\n",
    "\n",
    "model.fit(x_train,y_train,batch_size=200,verbose=2,validation_data=(x_test,y_test),epochs=20)"
   ]
  },
  {
   "cell_type": "code",
   "execution_count": 13,
   "metadata": {},
   "outputs": [
    {
     "name": "stdout",
     "output_type": "stream",
     "text": [
      "875/875 [==============================] - 2s 2ms/step\n"
     ]
    }
   ],
   "source": [
    "y_pred = model.predict(test)"
   ]
  },
  {
   "cell_type": "code",
   "execution_count": 14,
   "metadata": {},
   "outputs": [],
   "source": [
    "Y = pd.DataFrame(Y)"
   ]
  },
  {
   "cell_type": "code",
   "execution_count": 15,
   "metadata": {},
   "outputs": [],
   "source": [
    "import numpy"
   ]
  },
  {
   "cell_type": "code",
   "execution_count": 16,
   "metadata": {},
   "outputs": [
    {
     "data": {
      "text/plain": [
       "array([[0, 0, 1, ..., 0, 0, 0],\n",
       "       [1, 0, 0, ..., 0, 0, 0],\n",
       "       [0, 0, 0, ..., 0, 0, 1],\n",
       "       ...,\n",
       "       [0, 0, 0, ..., 0, 0, 0],\n",
       "       [0, 0, 0, ..., 0, 0, 1],\n",
       "       [0, 0, 1, ..., 0, 0, 0]])"
      ]
     },
     "execution_count": 16,
     "metadata": {},
     "output_type": "execute_result"
    }
   ],
   "source": [
    "y_pred.round().astype('int')"
   ]
  },
  {
   "cell_type": "code",
   "execution_count": 17,
   "metadata": {},
   "outputs": [],
   "source": [
    "y_pred = numpy.argmax(y_pred, axis=1)"
   ]
  },
  {
   "cell_type": "code",
   "execution_count": 18,
   "metadata": {},
   "outputs": [],
   "source": [
    "y_pred = pd.DataFrame(y_pred)"
   ]
  },
  {
   "cell_type": "code",
   "execution_count": 19,
   "metadata": {},
   "outputs": [],
   "source": [
    "y_pred.index +=1"
   ]
  },
  {
   "cell_type": "code",
   "execution_count": 20,
   "metadata": {},
   "outputs": [],
   "source": [
    "submission = y_pred.to_csv('submission.csv')"
   ]
  }
 ],
 "metadata": {
  "kernelspec": {
   "display_name": "Python 3",
   "language": "python",
   "name": "python3"
  },
  "language_info": {
   "codemirror_mode": {
    "name": "ipython",
    "version": 3
   },
   "file_extension": ".py",
   "mimetype": "text/x-python",
   "name": "python",
   "nbconvert_exporter": "python",
   "pygments_lexer": "ipython3",
   "version": "3.11.8"
  }
 },
 "nbformat": 4,
 "nbformat_minor": 2
}
