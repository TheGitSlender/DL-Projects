{
 "cells": [
  {
   "cell_type": "code",
   "execution_count": 2,
   "metadata": {},
   "outputs": [],
   "source": [
    "import torch\n",
    "import torchvision as tv\n",
    "import torch.nn as nn\n",
    "import copy\n",
    "import numpy as np"
   ]
  },
  {
   "cell_type": "code",
   "execution_count": 3,
   "metadata": {},
   "outputs": [],
   "source": [
    "train_data = tv.datasets.FashionMNIST(root='data',train=True,download=True)\n",
    "test_data = tv.datasets.FashionMNIST(root='data',train=False,download=True)"
   ]
  },
  {
   "cell_type": "code",
   "execution_count": 4,
   "metadata": {},
   "outputs": [
    {
     "data": {
      "text/plain": [
       "torch.Size([60000, 28, 28])"
      ]
     },
     "execution_count": 4,
     "metadata": {},
     "output_type": "execute_result"
    }
   ],
   "source": [
    "train_data.data.shape"
   ]
  },
  {
   "cell_type": "code",
   "execution_count": 5,
   "metadata": {},
   "outputs": [
    {
     "data": {
      "text/plain": [
       "{'T-shirt/top': 0,\n",
       " 'Trouser': 1,\n",
       " 'Pullover': 2,\n",
       " 'Dress': 3,\n",
       " 'Coat': 4,\n",
       " 'Sandal': 5,\n",
       " 'Shirt': 6,\n",
       " 'Sneaker': 7,\n",
       " 'Bag': 8,\n",
       " 'Ankle boot': 9}"
      ]
     },
     "execution_count": 5,
     "metadata": {},
     "output_type": "execute_result"
    }
   ],
   "source": [
    "train_data.class_to_idx"
   ]
  },
  {
   "cell_type": "code",
   "execution_count": 6,
   "metadata": {},
   "outputs": [
    {
     "data": {
      "text/plain": [
       "tensor([9, 0, 0,  ..., 3, 0, 5])"
      ]
     },
     "execution_count": 6,
     "metadata": {},
     "output_type": "execute_result"
    }
   ],
   "source": [
    "labels = copy.deepcopy(train_data.targets)\n",
    "labels"
   ]
  },
  {
   "cell_type": "code",
   "execution_count": 7,
   "metadata": {},
   "outputs": [],
   "source": [
    "images = train_data.data.view([60000,1,28,28]).float()"
   ]
  },
  {
   "cell_type": "code",
   "execution_count": 8,
   "metadata": {},
   "outputs": [
    {
     "data": {
      "image/png": "[encoded data removed]",
      "text/plain": [
       "<Figure size 640x480 with 1 Axes>"
      ]
     },
     "metadata": {},
     "output_type": "display_data"
    }
   ],
   "source": [
    "import matplotlib.pyplot as plt\n",
    "plt.hist(images[:10,:,:,:].view(1,-1).detach(),40)\n",
    "plt.title(\"Raw values\")\n",
    "plt.show()\n",
    "images = images/256"
   ]
  },
  {
   "cell_type": "code",
   "execution_count": 9,
   "metadata": {},
   "outputs": [],
   "source": [
    "from sklearn.model_selection import train_test_split\n",
    "\n",
    "x_train,x_test,y_train,y_test = train_test_split(images,labels,test_size=0.2)\n",
    "train_data = torch.utils.data.TensorDataset(x_train,y_train)\n",
    "test_data = torch.utils.data.TensorDataset(x_test,y_test)\n",
    "\n",
    "num_batches = 100\n",
    "train_loader = torch.utils.data.DataLoader(train_data,batch_size=num_batches,shuffle=True,drop_last=True)\n",
    "test_loader = torch.utils.data.DataLoader(test_data,batch_size=num_batches,shuffle=True,drop_last=True)"
   ]
  },
  {
   "cell_type": "code",
   "execution_count": 10,
   "metadata": {},
   "outputs": [
    {
     "name": "stdout",
     "output_type": "stream",
     "text": [
      "torch.Size([48000, 1, 28, 28])\n",
      "torch.Size([48000])\n"
     ]
    }
   ],
   "source": [
    "print(train_loader.dataset.tensors[0].shape)\n",
    "print(train_loader.dataset.tensors[1].shape)"
   ]
  },
  {
   "cell_type": "code",
   "execution_count": 11,
   "metadata": {},
   "outputs": [],
   "source": [
    "class CNN(nn.Module):\n",
    "    def __init__(self):\n",
    "        super(CNN,self).__init__()\n",
    "        self.conv1 = nn.Conv2d(in_channels=1,out_channels=16,kernel_size=5,padding=2)\n",
    "        self.bn1 = nn.BatchNorm2d(16)\n",
    "        self.maxpool = nn.MaxPool2d(kernel_size=2,stride=2)\n",
    "        #img_shape = (14,14), num_channels = 16\n",
    "\n",
    "        self.conv2 = nn.Conv2d(16,16,kernel_size=5,padding=2)\n",
    "        self.bn2 = nn.BatchNorm2d(16)\n",
    "        #img_shape = (7,7), num_channels = 16\n",
    "        self.fc1 = nn.Linear(7*7*16,100)\n",
    "        self.fc2 = nn.Linear(100,10)\n",
    "\n",
    "    def forward(self,x):\n",
    "        #first block\n",
    "        x = torch.relu(self.bn1(self.conv1(x)))\n",
    "        x = self.maxpool(x)\n",
    "        #second block\n",
    "        x = torch.relu(self.bn2(self.conv2(x)))\n",
    "        x = self.maxpool(x)\n",
    "        #Flatten\n",
    "        x = x.view(x.size(0),-1)\n",
    "        x = torch.relu(self.fc1(x))\n",
    "        x = self.fc2(x)\n",
    "        return x"
   ]
  },
  {
   "cell_type": "code",
   "execution_count": 12,
   "metadata": {},
   "outputs": [],
   "source": [
    "model = CNN()"
   ]
  },
  {
   "cell_type": "code",
   "execution_count": 13,
   "metadata": {},
   "outputs": [
    {
     "data": {
      "text/plain": [
       "CNN(\n",
       "  (conv1): Conv2d(1, 16, kernel_size=(5, 5), stride=(1, 1), padding=(2, 2))\n",
       "  (bn1): BatchNorm2d(16, eps=1e-05, momentum=0.1, affine=True, track_running_stats=True)\n",
       "  (maxpool): MaxPool2d(kernel_size=2, stride=2, padding=0, dilation=1, ceil_mode=False)\n",
       "  (conv2): Conv2d(16, 16, kernel_size=(5, 5), stride=(1, 1), padding=(2, 2))\n",
       "  (bn2): BatchNorm2d(16, eps=1e-05, momentum=0.1, affine=True, track_running_stats=True)\n",
       "  (fc1): Linear(in_features=784, out_features=100, bias=True)\n",
       "  (fc2): Linear(in_features=100, out_features=10, bias=True)\n",
       ")"
      ]
     },
     "execution_count": 13,
     "metadata": {},
     "output_type": "execute_result"
    }
   ],
   "source": [
    "model.eval()"
   ]
  },
  {
   "cell_type": "code",
   "execution_count": 14,
   "metadata": {},
   "outputs": [],
   "source": [
    "criterion = nn.CrossEntropyLoss()\n",
    "optimizer = torch.optim.Adam(model.parameters(),lr=0.001)"
   ]
  },
  {
   "cell_type": "code",
   "execution_count": 15,
   "metadata": {},
   "outputs": [],
   "source": [
    "device = torch.device('cuda:0'if torch.cuda.is_available() else 'cpu')"
   ]
  },
  {
   "cell_type": "code",
   "execution_count": 16,
   "metadata": {},
   "outputs": [
    {
     "name": "stdout",
     "output_type": "stream",
     "text": [
      "epoch 0\n",
      "training_loss: 0.4450693282298744\n",
      "testing_loss: 0.34376004450023173\n",
      "epoch 1\n",
      "training_loss: 0.2971167239670952\n",
      "testing_loss: 0.3016611619542042\n",
      "epoch 2\n",
      "training_loss: 0.25943152215331794\n",
      "testing_loss: 0.2939945456882318\n",
      "epoch 3\n",
      "training_loss: 0.23659295705147088\n",
      "testing_loss: 0.29369033115605514\n",
      "epoch 4\n",
      "training_loss: 0.2169929646886885\n",
      "testing_loss: 0.2668420229728023\n",
      "epoch 5\n",
      "training_loss: 0.19633071661616366\n",
      "testing_loss: 0.2670161688700318\n",
      "epoch 6\n",
      "training_loss: 0.18673930355968574\n",
      "testing_loss: 0.2604696976020932\n",
      "epoch 7\n",
      "training_loss: 0.1712641114834696\n",
      "testing_loss: 0.24631687210251887\n",
      "epoch 8\n",
      "training_loss: 0.16064844017382712\n",
      "testing_loss: 0.28150567077100275\n",
      "epoch 9\n",
      "training_loss: 0.15167930563135693\n",
      "testing_loss: 0.3333523997416099\n"
     ]
    }
   ],
   "source": [
    "#main loop\n",
    "\n",
    "n_epochs = 10\n",
    "model.to(device)\n",
    "trainloss = []\n",
    "testloss = []\n",
    "\n",
    "for epoch in range(n_epochs):\n",
    "    print(f\"epoch {epoch}\")\n",
    "    model.train()\n",
    "    batchloss = []\n",
    "    for x,y in train_loader:\n",
    "        x,y = x.to(device),y.to(device)\n",
    "        y_pred = model(x)\n",
    "        loss = criterion(y_pred,y)\n",
    "        #backpropagation\n",
    "        optimizer.zero_grad()\n",
    "        loss.backward()\n",
    "        optimizer.step()\n",
    "\n",
    "        batchloss.append((loss.item()))\n",
    "    trainloss.append(np.mean(batchloss))\n",
    "    print(f\"training_loss: {trainloss[epoch]}\")\n",
    "    model.eval()\n",
    "    otherloss = []\n",
    "    for x_test,y_test in test_loader:\n",
    "        x_test,y_test = x_test.to(device),y_test.to(device)\n",
    "        yhat = model(x_test)\n",
    "        loss = criterion(yhat,y_test)\n",
    "        otherloss.append(loss.item())\n",
    "    testloss.append(np.mean(otherloss))\n",
    "    print(f\"testing_loss: {testloss[epoch]}\")\n",
    "        "
   ]
  }
 ],
 "metadata": {
  "kernelspec": {
   "display_name": "Python 3",
   "language": "python",
   "name": "python3"
  },
  "language_info": {
   "codemirror_mode": {
    "name": "ipython",
    "version": 3
   },
   "file_extension": ".py",
   "mimetype": "text/x-python",
   "name": "python",
   "nbconvert_exporter": "python",
   "pygments_lexer": "ipython3",
   "version": "3.11.9"
  }
 },
 "nbformat": 4,
 "nbformat_minor": 2
}
